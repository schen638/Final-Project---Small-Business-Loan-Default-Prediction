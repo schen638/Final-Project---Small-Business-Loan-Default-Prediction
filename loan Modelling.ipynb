{
 "cells": [
  {
   "cell_type": "markdown",
   "metadata": {},
   "source": [
    "### Modelling"
   ]
  },
  {
   "cell_type": "code",
   "execution_count": 34,
   "metadata": {},
   "outputs": [],
   "source": [
    "import pandas as pd, seaborn as sns, numpy as np, matplotlib.pyplot as plt\n",
    "import string\n",
    "import statsmodels.api as sm\n",
    "\n",
    "from sklearn.preprocessing import StandardScaler\n",
    "from sklearn.model_selection import learning_curve\n",
    "from sklearn.metrics import classification_report\n",
    "from sklearn.naive_bayes import MultinomialNB, BernoulliNB, GaussianNB\n",
    "from sklearn.linear_model import LogisticRegression\n",
    "from sklearn.model_selection import train_test_split,KFold, cross_val_score, \\\n",
    "cross_val_predict, GridSearchCV\n",
    "from sklearn.metrics import r2_score, mean_squared_error, confusion_matrix,\\\n",
    "roc_curve, auc, classification_report, recall_score\n",
    "from sklearn.ensemble import RandomForestClassifier\n",
    "from sklearn.svm import SVC\n",
    "from sklearn.neural_network import MLPClassifier\n",
    "\n",
    "%matplotlib inline\n",
    "\n",
    "sns.set_style(\"darkgrid\")"
   ]
  },
  {
   "cell_type": "code",
   "execution_count": 35,
   "metadata": {},
   "outputs": [],
   "source": [
    "df = pd.read_pickle(\"./sectorcleaned.pkl\")"
   ]
  },
  {
   "cell_type": "code",
   "execution_count": 36,
   "metadata": {},
   "outputs": [
    {
     "data": {
      "text/plain": [
       "Name             object\n",
       "BankState        object\n",
       "Term              int64\n",
       "NoEmp             int64\n",
       "CreateJob         int64\n",
       "RetainedJob       int64\n",
       "UrbanRural        int64\n",
       "GrAppv          float64\n",
       "sector           object\n",
       "default           int64\n",
       "MoApproved       object\n",
       "franchise         int32\n",
       "lineofcredit      int32\n",
       "lowdocs           int32\n",
       "newbiz            int64\n",
       "recession         int32\n",
       "REbacked          int32\n",
       "county           object\n",
       "medincome       float64\n",
       "SBAgtee         float64\n",
       "FYA70-74          int32\n",
       "FYA75-79          int32\n",
       "FYA80-84          int32\n",
       "FYA85-89          int32\n",
       "FYA90-94          int32\n",
       "FYA95-99          int32\n",
       "FYA00-04          int32\n",
       "FYA05-09          int32\n",
       "FYA10-14          int32\n",
       "name2            object\n",
       "dtype: object"
      ]
     },
     "execution_count": 36,
     "metadata": {},
     "output_type": "execute_result"
    }
   ],
   "source": [
    "df.dtypes"
   ]
  },
  {
   "cell_type": "code",
   "execution_count": 37,
   "metadata": {},
   "outputs": [
    {
     "data": {
      "image/png": "[encoded data removed]",
      "text/plain": [
       "<Figure size 432x288 with 1 Axes>"
      ]
     },
     "metadata": {},
     "output_type": "display_data"
    }
   ],
   "source": [
    "df.default.value_counts().plot(kind='bar', color=['grey', 'pink'])\n",
    "ax = plt.title('Distribution of Loan Outcomes', fontsize=18, color='white')\n",
    "ax = plt.xticks(np.arange(2), ('No Default', 'Default'), color='white', rotation=0)\n",
    "ax = plt.yticks(color='white')\n",
    "#ax = plt.ylabels('Counts', color='white')\n",
    "\n",
    "plt.show()"
   ]
  },
  {
   "cell_type": "code",
   "execution_count": 38,
   "metadata": {},
   "outputs": [
    {
     "data": {
      "text/plain": [
       "0    0.850386\n",
       "1    0.149614\n",
       "Name: default, dtype: float64"
      ]
     },
     "execution_count": 38,
     "metadata": {},
     "output_type": "execute_result"
    }
   ],
   "source": [
    "df.default.value_counts()/len(df)"
   ]
  },
  {
   "cell_type": "code",
   "execution_count": null,
   "metadata": {},
   "outputs": [],
   "source": []
  },
  {
   "cell_type": "code",
   "execution_count": 39,
   "metadata": {},
   "outputs": [],
   "source": [
    "# drop name as it will not be useful for classification\n",
    "df.drop(['Name', 'name2'], axis=1, inplace=True)"
   ]
  },
  {
   "cell_type": "code",
   "execution_count": 40,
   "metadata": {},
   "outputs": [],
   "source": [
    "# drop 'REbacked' and 'medincome' due to high poss of multicollinearity (and weird results in \n",
    "# prior runs)\n",
    "df.drop(['REbacked', 'medincome'], axis=1, inplace=True)"
   ]
  },
  {
   "cell_type": "code",
   "execution_count": 41,
   "metadata": {},
   "outputs": [],
   "source": [
    "# dummy bankstate, state and sector\n",
    "def makedummies(df, col):\n",
    "    for c in col:\n",
    "        dummy = pd.get_dummies(df[c], prefix=c, drop_first=True)\n",
    "        #print(dummy)\n",
    "        df = pd.concat([df, dummy], axis=1)\n",
    "        df.drop(c, axis=1, inplace=True)\n",
    "    return df\n"
   ]
  },
  {
   "cell_type": "code",
   "execution_count": 42,
   "metadata": {},
   "outputs": [],
   "source": [
    "df = makedummies(df,['BankState', 'sector', 'MoApproved', 'county'])"
   ]
  },
  {
   "cell_type": "code",
   "execution_count": 43,
   "metadata": {},
   "outputs": [
    {
     "data": {
      "text/plain": [
       "(33847, 151)"
      ]
     },
     "execution_count": 43,
     "metadata": {},
     "output_type": "execute_result"
    }
   ],
   "source": [
    "df.shape"
   ]
  },
  {
   "cell_type": "code",
   "execution_count": 44,
   "metadata": {},
   "outputs": [],
   "source": [
    "X = df.drop('default', axis=1)\n",
    "y = df.default"
   ]
  },
  {
   "cell_type": "code",
   "execution_count": 45,
   "metadata": {},
   "outputs": [
    {
     "name": "stderr",
     "output_type": "stream",
     "text": [
      "C:\\Users\\schen24\\Anaconda3\\lib\\site-packages\\sklearn\\preprocessing\\data.py:625: DataConversionWarning: Data with input dtype uint8, int32, int64, float64 were all converted to float64 by StandardScaler.\n",
      "  return self.partial_fit(X, y)\n",
      "C:\\Users\\schen24\\Anaconda3\\lib\\site-packages\\sklearn\\base.py:462: DataConversionWarning: Data with input dtype uint8, int32, int64, float64 were all converted to float64 by StandardScaler.\n",
      "  return self.fit(X, **fit_params).transform(X)\n",
      "C:\\Users\\schen24\\Anaconda3\\lib\\site-packages\\ipykernel_launcher.py:7: DataConversionWarning: Data with input dtype uint8, int32, int64, float64 were all converted to float64 by StandardScaler.\n",
      "  import sys\n"
     ]
    }
   ],
   "source": [
    "# train test train_test_split. \n",
    "X_train, X_test, y_train, y_test = \\\n",
    "           train_test_split(X, y, \\\n",
    "                            random_state = 16, test_size = 0.3, stratify=y)\n",
    "\n",
    "# standardize X VALUES using list of x variables\n",
    "ss = StandardScaler()\n",
    "Xs_train = pd.DataFrame(ss.fit_transform(X_train), columns=X.columns)\n",
    "Xs_test = pd.DataFrame(ss.transform(X_test), columns=X.columns)"
   ]
  },
  {
   "cell_type": "code",
   "execution_count": 54,
   "metadata": {},
   "outputs": [],
   "source": [
    "# function to plot ROC curve for later\n",
    "from sklearn.metrics import roc_curve\n",
    "\n",
    "def plot_roc(y, probs, threshmarkers=None):\n",
    "    fpr, tpr, thresh = roc_curve(y, probs)\n",
    "\n",
    "    plt.figure(figsize=(4,4))\n",
    "    plt.plot(fpr, tpr, lw=2)\n",
    "   \n",
    "    plt.xlabel(\"False Positive Rate\\n(1 - Specificity)\")\n",
    "    plt.ylabel(\"True Positive Rate\\n(Sensitivity)\")\n",
    "    plt.xlim([-0.025, 1.025])\n",
    "    plt.ylim([-0.025, 1.025])\n",
    "    plt.xticks(np.linspace(0, 1, 11), rotation=45)\n",
    "    plt.yticks(np.linspace(0, 1, 11))\n",
    "    plt.plot([0, 1], [0, 1], linestyle='--')\n",
    "    plt.title('Receiver Operating Characteristic (ROC) Curve', fontsize=18)\n",
    "    plt.show()\n"
   ]
  },
  {
   "cell_type": "code",
   "execution_count": 47,
   "metadata": {},
   "outputs": [],
   "source": [
    "baseline = df[df.default==0].default.count()/len(df.default)"
   ]
  },
  {
   "cell_type": "code",
   "execution_count": 32,
   "metadata": {},
   "outputs": [],
   "source": [
    "# function to run gridsearch cv on a variety of classification methods\n",
    "def gscv(method, params, cv, Xtrain, ytrain, Xtest, ytest):\n",
    "    gridsearcher = GridSearchCV(method, param_grid=params,cv=cv, verbose=4, n_jobs=-1)\n",
    "    result = gridsearcher.fit(Xtrain, ytrain)\n",
    "\n",
    "    print('Best cross-validated parameters:', result.best_params_)\n",
    "    # this is the accuracy score ie. tp+tn/totpopn\n",
    "    best = result.best_estimator_\n",
    "    score = best.score(Xtest, ytest)\n",
    "    print('{} Score {}'.format(method, score))\n",
    "    # confusion matrix\n",
    "    print('Confusion matrix: ', confusion_matrix(ytest, best.predict(Xtest)))\n",
    "    # classification report\n",
    "    print(classification_report(ytest, best.predict(Xtest)))\n",
    "    # get AUC / ROC\n",
    "    fpr, tpr, _ = roc_curve(ytest, best.predict_proba(Xtest)[:,1])\n",
    "    roc_auc = auc(fpr, tpr)\n",
    "    print('{} Classification AUC:'.format(method), roc_auc)\n",
    "    recall = recall_score(ytest, best.predict(Xtest))\n",
    "    print('Recall score: {}'.format(recall_score(ytest, best.predict(Xtest))))\n",
    "    return best, score, roc_auc, recall\n"
   ]
  },
  {
   "cell_type": "markdown",
   "metadata": {},
   "source": [
    "<div class=\"alert alert-block alert-info\">\n",
    "<b>1. Logistic Regression</b> \n",
    "</div>"
   ]
  },
  {
   "cell_type": "code",
   "execution_count": 14,
   "metadata": {},
   "outputs": [],
   "source": [
    "# logistic regression param \n",
    "logr_parameters = {\n",
    "    'penalty':['l1','l2'],\n",
    "    'solver':['liblinear'],\n",
    "    'C':np.linspace(1, 25, num=5)\n",
    "}"
   ]
  },
  {
   "cell_type": "code",
   "execution_count": 15,
   "metadata": {
    "scrolled": true
   },
   "outputs": [
    {
     "name": "stderr",
     "output_type": "stream",
     "text": [
      "[Parallel(n_jobs=-1)]: Using backend LokyBackend with 4 concurrent workers.\n"
     ]
    },
    {
     "name": "stdout",
     "output_type": "stream",
     "text": [
      "Fitting 5 folds for each of 10 candidates, totalling 50 fits\n"
     ]
    },
    {
     "name": "stderr",
     "output_type": "stream",
     "text": [
      "[Parallel(n_jobs=-1)]: Done  17 tasks      | elapsed:  3.5min\n",
      "[Parallel(n_jobs=-1)]: Done  50 out of  50 | elapsed: 15.2min finished\n"
     ]
    },
    {
     "name": "stdout",
     "output_type": "stream",
     "text": [
      "Best cross-validated parameters: {'C': 13.0, 'penalty': 'l2', 'solver': 'liblinear'}\n",
      "LogisticRegression(C=1.0, class_weight=None, dual=False, fit_intercept=True,\n",
      "          intercept_scaling=1, max_iter=100, multi_class='warn',\n",
      "          n_jobs=None, penalty='l2', random_state=None, solver='warn',\n",
      "          tol=0.0001, verbose=0, warm_start=False) Score 0.8859675036927622\n",
      "Confusion matrix:  [[8428  208]\n",
      " [ 950  569]]\n",
      "              precision    recall  f1-score   support\n",
      "\n",
      "           0       0.90      0.98      0.94      8636\n",
      "           1       0.73      0.37      0.50      1519\n",
      "\n",
      "   micro avg       0.89      0.89      0.89     10155\n",
      "   macro avg       0.82      0.68      0.72     10155\n",
      "weighted avg       0.87      0.89      0.87     10155\n",
      "\n",
      "LogisticRegression(C=1.0, class_weight=None, dual=False, fit_intercept=True,\n",
      "          intercept_scaling=1, max_iter=100, multi_class='warn',\n",
      "          n_jobs=None, penalty='l2', random_state=None, solver='warn',\n",
      "          tol=0.0001, verbose=0, warm_start=False) Classification AUC: 0.8649394606712382\n",
      "Recall score: 0.3745885450954575\n"
     ]
    }
   ],
   "source": [
    "bestlr = gscv(LogisticRegression(), logr_parameters, 5, Xs_train, y_train, Xs_test, y_test)"
   ]
  },
  {
   "cell_type": "code",
   "execution_count": 25,
   "metadata": {},
   "outputs": [
    {
     "data": {
      "text/html": [
       "<div>\n",
       "<style scoped>\n",
       "    .dataframe tbody tr th:only-of-type {\n",
       "        vertical-align: middle;\n",
       "    }\n",
       "\n",
       "    .dataframe tbody tr th {\n",
       "        vertical-align: top;\n",
       "    }\n",
       "\n",
       "    .dataframe thead th {\n",
       "        text-align: right;\n",
       "    }\n",
       "</style>\n",
       "<table border=\"1\" class=\"dataframe\">\n",
       "  <thead>\n",
       "    <tr style=\"text-align: right;\">\n",
       "      <th></th>\n",
       "      <th>LR</th>\n",
       "      <th>LRabs</th>\n",
       "    </tr>\n",
       "  </thead>\n",
       "  <tbody>\n",
       "    <tr>\n",
       "      <th>BankState_PA</th>\n",
       "      <td>-3.069139</td>\n",
       "      <td>3.069139</td>\n",
       "    </tr>\n",
       "    <tr>\n",
       "      <th>NoEmp</th>\n",
       "      <td>-2.142657</td>\n",
       "      <td>2.142657</td>\n",
       "    </tr>\n",
       "    <tr>\n",
       "      <th>BankState_DE</th>\n",
       "      <td>-2.109942</td>\n",
       "      <td>2.109942</td>\n",
       "    </tr>\n",
       "    <tr>\n",
       "      <th>BankState_RI</th>\n",
       "      <td>-1.868940</td>\n",
       "      <td>1.868940</td>\n",
       "    </tr>\n",
       "    <tr>\n",
       "      <th>Term</th>\n",
       "      <td>-1.745316</td>\n",
       "      <td>1.745316</td>\n",
       "    </tr>\n",
       "    <tr>\n",
       "      <th>BankState_NY</th>\n",
       "      <td>-1.417975</td>\n",
       "      <td>1.417975</td>\n",
       "    </tr>\n",
       "    <tr>\n",
       "      <th>BankState_SD</th>\n",
       "      <td>-0.794943</td>\n",
       "      <td>0.794943</td>\n",
       "    </tr>\n",
       "    <tr>\n",
       "      <th>BankState_NJ</th>\n",
       "      <td>-0.744733</td>\n",
       "      <td>0.744733</td>\n",
       "    </tr>\n",
       "    <tr>\n",
       "      <th>BankState_NC</th>\n",
       "      <td>-0.688598</td>\n",
       "      <td>0.688598</td>\n",
       "    </tr>\n",
       "    <tr>\n",
       "      <th>BankState_MD</th>\n",
       "      <td>-0.642954</td>\n",
       "      <td>0.642954</td>\n",
       "    </tr>\n",
       "    <tr>\n",
       "      <th>BankState_OH</th>\n",
       "      <td>-0.629498</td>\n",
       "      <td>0.629498</td>\n",
       "    </tr>\n",
       "    <tr>\n",
       "      <th>BankState_VA</th>\n",
       "      <td>-0.604148</td>\n",
       "      <td>0.604148</td>\n",
       "    </tr>\n",
       "    <tr>\n",
       "      <th>BankState_CA</th>\n",
       "      <td>-0.563604</td>\n",
       "      <td>0.563604</td>\n",
       "    </tr>\n",
       "    <tr>\n",
       "      <th>FYA90-94</th>\n",
       "      <td>-0.543685</td>\n",
       "      <td>0.543685</td>\n",
       "    </tr>\n",
       "    <tr>\n",
       "      <th>FYA05-09</th>\n",
       "      <td>0.519968</td>\n",
       "      <td>0.519968</td>\n",
       "    </tr>\n",
       "    <tr>\n",
       "      <th>RetainedJob</th>\n",
       "      <td>0.498619</td>\n",
       "      <td>0.498619</td>\n",
       "    </tr>\n",
       "    <tr>\n",
       "      <th>recession</th>\n",
       "      <td>-0.468973</td>\n",
       "      <td>0.468973</td>\n",
       "    </tr>\n",
       "    <tr>\n",
       "      <th>CreateJob</th>\n",
       "      <td>-0.436808</td>\n",
       "      <td>0.436808</td>\n",
       "    </tr>\n",
       "    <tr>\n",
       "      <th>FYA75-79</th>\n",
       "      <td>0.401529</td>\n",
       "      <td>0.401529</td>\n",
       "    </tr>\n",
       "    <tr>\n",
       "      <th>sector_72</th>\n",
       "      <td>0.371522</td>\n",
       "      <td>0.371522</td>\n",
       "    </tr>\n",
       "  </tbody>\n",
       "</table>\n",
       "</div>"
      ],
      "text/plain": [
       "                    LR     LRabs\n",
       "BankState_PA -3.069139  3.069139\n",
       "NoEmp        -2.142657  2.142657\n",
       "BankState_DE -2.109942  2.109942\n",
       "BankState_RI -1.868940  1.868940\n",
       "Term         -1.745316  1.745316\n",
       "BankState_NY -1.417975  1.417975\n",
       "BankState_SD -0.794943  0.794943\n",
       "BankState_NJ -0.744733  0.744733\n",
       "BankState_NC -0.688598  0.688598\n",
       "BankState_MD -0.642954  0.642954\n",
       "BankState_OH -0.629498  0.629498\n",
       "BankState_VA -0.604148  0.604148\n",
       "BankState_CA -0.563604  0.563604\n",
       "FYA90-94     -0.543685  0.543685\n",
       "FYA05-09      0.519968  0.519968\n",
       "RetainedJob   0.498619  0.498619\n",
       "recession    -0.468973  0.468973\n",
       "CreateJob    -0.436808  0.436808\n",
       "FYA75-79      0.401529  0.401529\n",
       "sector_72     0.371522  0.371522"
      ]
     },
     "execution_count": 25,
     "metadata": {},
     "output_type": "execute_result"
    }
   ],
   "source": [
    "# get coefficients\n",
    "logdf = pd.DataFrame(bestlr[0].coef_[0], index=X.columns, columns=['LR'])\n",
    "logdf['LRabs'] = abs(logdf.LR)\n",
    "# getting top features\n",
    "logdf = logdf.sort_values(by='LRabs', ascending=False)\n",
    "logdf[:20]"
   ]
  },
  {
   "cell_type": "markdown",
   "metadata": {},
   "source": [
    "<div class=\"alert alert-block alert-info\">\n",
    "<b> 3. Logistic Regression + Balanced Weights</b> \n",
    "</div>"
   ]
  },
  {
   "cell_type": "code",
   "execution_count": 17,
   "metadata": {},
   "outputs": [
    {
     "name": "stdout",
     "output_type": "stream",
     "text": [
      "Fitting 5 folds for each of 10 candidates, totalling 50 fits\n"
     ]
    },
    {
     "name": "stderr",
     "output_type": "stream",
     "text": [
      "[Parallel(n_jobs=-1)]: Using backend LokyBackend with 4 concurrent workers.\n",
      "[Parallel(n_jobs=-1)]: Done  17 tasks      | elapsed:  3.8min\n",
      "[Parallel(n_jobs=-1)]: Done  50 out of  50 | elapsed: 15.7min finished\n"
     ]
    },
    {
     "name": "stdout",
     "output_type": "stream",
     "text": [
      "Best cross-validated parameters: {'C': 25.0, 'penalty': 'l1', 'solver': 'liblinear'}\n",
      "LogisticRegression(C=1.0, class_weight='balanced', dual=False,\n",
      "          fit_intercept=True, intercept_scaling=1, max_iter=100,\n",
      "          multi_class='warn', n_jobs=None, penalty='l2', random_state=None,\n",
      "          solver='warn', tol=0.0001, verbose=0, warm_start=False) Score 0.779123584441162\n",
      "Confusion matrix:  [[6669 1967]\n",
      " [ 276 1243]]\n",
      "              precision    recall  f1-score   support\n",
      "\n",
      "           0       0.96      0.77      0.86      8636\n",
      "           1       0.39      0.82      0.53      1519\n",
      "\n",
      "   micro avg       0.78      0.78      0.78     10155\n",
      "   macro avg       0.67      0.80      0.69     10155\n",
      "weighted avg       0.87      0.78      0.81     10155\n",
      "\n",
      "LogisticRegression(C=1.0, class_weight='balanced', dual=False,\n",
      "          fit_intercept=True, intercept_scaling=1, max_iter=100,\n",
      "          multi_class='warn', n_jobs=None, penalty='l2', random_state=None,\n",
      "          solver='warn', tol=0.0001, verbose=0, warm_start=False) Classification AUC: 0.8644587502260238\n",
      "Recall score: 0.8183015141540487\n"
     ]
    }
   ],
   "source": [
    "bestlrbal = gscv(LogisticRegression(class_weight='balanced'), logr_parameters, 5, Xs_train, y_train, Xs_test, y_test)"
   ]
  },
  {
   "cell_type": "code",
   "execution_count": 26,
   "metadata": {},
   "outputs": [],
   "source": [
    "# get coefficients\n",
    "def coeff(logdf, method, X):\n",
    "    name = method.replace('best', '').upper()\n",
    "    glob = globals()[method]\n",
    "    if 'rf' in method:\n",
    "        temp = pd.DataFrame(glob[0].feature_importances_, index=X.columns, columns=[name])\n",
    "    else:\n",
    "        temp = pd.DataFrame(glob[0].coef_[0], index=X.columns, columns=[name])\n",
    "    temp[name+'abs'] = abs(temp[name])\n",
    "# join\n",
    "    logdf = logdf.join(temp)\n",
    "    return logdf"
   ]
  },
  {
   "cell_type": "code",
   "execution_count": 27,
   "metadata": {},
   "outputs": [],
   "source": [
    "logdf = coeff(logdf, 'bestlrbal', X)\n"
   ]
  },
  {
   "cell_type": "code",
   "execution_count": 29,
   "metadata": {},
   "outputs": [
    {
     "data": {
      "text/html": [
       "<div>\n",
       "<style scoped>\n",
       "    .dataframe tbody tr th:only-of-type {\n",
       "        vertical-align: middle;\n",
       "    }\n",
       "\n",
       "    .dataframe tbody tr th {\n",
       "        vertical-align: top;\n",
       "    }\n",
       "\n",
       "    .dataframe thead th {\n",
       "        text-align: right;\n",
       "    }\n",
       "</style>\n",
       "<table border=\"1\" class=\"dataframe\">\n",
       "  <thead>\n",
       "    <tr style=\"text-align: right;\">\n",
       "      <th></th>\n",
       "      <th>LR</th>\n",
       "      <th>LRabs</th>\n",
       "      <th>LRBAL</th>\n",
       "      <th>LRBALabs</th>\n",
       "    </tr>\n",
       "  </thead>\n",
       "  <tbody>\n",
       "    <tr>\n",
       "      <th>BankState_PA</th>\n",
       "      <td>-3.069139</td>\n",
       "      <td>3.069139</td>\n",
       "      <td>-2.720251</td>\n",
       "      <td>2.720251</td>\n",
       "    </tr>\n",
       "    <tr>\n",
       "      <th>NoEmp</th>\n",
       "      <td>-2.142657</td>\n",
       "      <td>2.142657</td>\n",
       "      <td>-1.950210</td>\n",
       "      <td>1.950210</td>\n",
       "    </tr>\n",
       "    <tr>\n",
       "      <th>BankState_DE</th>\n",
       "      <td>-2.109942</td>\n",
       "      <td>2.109942</td>\n",
       "      <td>-1.845188</td>\n",
       "      <td>1.845188</td>\n",
       "    </tr>\n",
       "    <tr>\n",
       "      <th>BankState_RI</th>\n",
       "      <td>-1.868940</td>\n",
       "      <td>1.868940</td>\n",
       "      <td>-1.701393</td>\n",
       "      <td>1.701393</td>\n",
       "    </tr>\n",
       "    <tr>\n",
       "      <th>Term</th>\n",
       "      <td>-1.745316</td>\n",
       "      <td>1.745316</td>\n",
       "      <td>-1.388303</td>\n",
       "      <td>1.388303</td>\n",
       "    </tr>\n",
       "    <tr>\n",
       "      <th>BankState_NY</th>\n",
       "      <td>-1.417975</td>\n",
       "      <td>1.417975</td>\n",
       "      <td>-1.263893</td>\n",
       "      <td>1.263893</td>\n",
       "    </tr>\n",
       "    <tr>\n",
       "      <th>FYA90-94</th>\n",
       "      <td>-0.543685</td>\n",
       "      <td>0.543685</td>\n",
       "      <td>-0.687084</td>\n",
       "      <td>0.687084</td>\n",
       "    </tr>\n",
       "    <tr>\n",
       "      <th>BankState_SD</th>\n",
       "      <td>-0.794943</td>\n",
       "      <td>0.794943</td>\n",
       "      <td>-0.633529</td>\n",
       "      <td>0.633529</td>\n",
       "    </tr>\n",
       "    <tr>\n",
       "      <th>BankState_NJ</th>\n",
       "      <td>-0.744733</td>\n",
       "      <td>0.744733</td>\n",
       "      <td>-0.629784</td>\n",
       "      <td>0.629784</td>\n",
       "    </tr>\n",
       "    <tr>\n",
       "      <th>BankState_NC</th>\n",
       "      <td>-0.688598</td>\n",
       "      <td>0.688598</td>\n",
       "      <td>-0.608815</td>\n",
       "      <td>0.608815</td>\n",
       "    </tr>\n",
       "    <tr>\n",
       "      <th>BankState_MD</th>\n",
       "      <td>-0.642954</td>\n",
       "      <td>0.642954</td>\n",
       "      <td>-0.595826</td>\n",
       "      <td>0.595826</td>\n",
       "    </tr>\n",
       "    <tr>\n",
       "      <th>recession</th>\n",
       "      <td>-0.468973</td>\n",
       "      <td>0.468973</td>\n",
       "      <td>-0.572438</td>\n",
       "      <td>0.572438</td>\n",
       "    </tr>\n",
       "    <tr>\n",
       "      <th>BankState_OH</th>\n",
       "      <td>-0.629498</td>\n",
       "      <td>0.629498</td>\n",
       "      <td>-0.552225</td>\n",
       "      <td>0.552225</td>\n",
       "    </tr>\n",
       "    <tr>\n",
       "      <th>BankState_VA</th>\n",
       "      <td>-0.604148</td>\n",
       "      <td>0.604148</td>\n",
       "      <td>-0.551906</td>\n",
       "      <td>0.551906</td>\n",
       "    </tr>\n",
       "    <tr>\n",
       "      <th>BankState_CA</th>\n",
       "      <td>-0.563604</td>\n",
       "      <td>0.563604</td>\n",
       "      <td>-0.479746</td>\n",
       "      <td>0.479746</td>\n",
       "    </tr>\n",
       "    <tr>\n",
       "      <th>FYA95-99</th>\n",
       "      <td>-0.277991</td>\n",
       "      <td>0.277991</td>\n",
       "      <td>-0.465495</td>\n",
       "      <td>0.465495</td>\n",
       "    </tr>\n",
       "    <tr>\n",
       "      <th>GrAppv</th>\n",
       "      <td>0.280430</td>\n",
       "      <td>0.280430</td>\n",
       "      <td>0.450583</td>\n",
       "      <td>0.450583</td>\n",
       "    </tr>\n",
       "    <tr>\n",
       "      <th>sector_72</th>\n",
       "      <td>0.371522</td>\n",
       "      <td>0.371522</td>\n",
       "      <td>0.417229</td>\n",
       "      <td>0.417229</td>\n",
       "    </tr>\n",
       "    <tr>\n",
       "      <th>sector_44</th>\n",
       "      <td>0.325831</td>\n",
       "      <td>0.325831</td>\n",
       "      <td>0.383979</td>\n",
       "      <td>0.383979</td>\n",
       "    </tr>\n",
       "    <tr>\n",
       "      <th>FYA10-14</th>\n",
       "      <td>-0.202094</td>\n",
       "      <td>0.202094</td>\n",
       "      <td>-0.363190</td>\n",
       "      <td>0.363190</td>\n",
       "    </tr>\n",
       "  </tbody>\n",
       "</table>\n",
       "</div>"
      ],
      "text/plain": [
       "                    LR     LRabs     LRBAL  LRBALabs\n",
       "BankState_PA -3.069139  3.069139 -2.720251  2.720251\n",
       "NoEmp        -2.142657  2.142657 -1.950210  1.950210\n",
       "BankState_DE -2.109942  2.109942 -1.845188  1.845188\n",
       "BankState_RI -1.868940  1.868940 -1.701393  1.701393\n",
       "Term         -1.745316  1.745316 -1.388303  1.388303\n",
       "BankState_NY -1.417975  1.417975 -1.263893  1.263893\n",
       "FYA90-94     -0.543685  0.543685 -0.687084  0.687084\n",
       "BankState_SD -0.794943  0.794943 -0.633529  0.633529\n",
       "BankState_NJ -0.744733  0.744733 -0.629784  0.629784\n",
       "BankState_NC -0.688598  0.688598 -0.608815  0.608815\n",
       "BankState_MD -0.642954  0.642954 -0.595826  0.595826\n",
       "recession    -0.468973  0.468973 -0.572438  0.572438\n",
       "BankState_OH -0.629498  0.629498 -0.552225  0.552225\n",
       "BankState_VA -0.604148  0.604148 -0.551906  0.551906\n",
       "BankState_CA -0.563604  0.563604 -0.479746  0.479746\n",
       "FYA95-99     -0.277991  0.277991 -0.465495  0.465495\n",
       "GrAppv        0.280430  0.280430  0.450583  0.450583\n",
       "sector_72     0.371522  0.371522  0.417229  0.417229\n",
       "sector_44     0.325831  0.325831  0.383979  0.383979\n",
       "FYA10-14     -0.202094  0.202094 -0.363190  0.363190"
      ]
     },
     "execution_count": 29,
     "metadata": {},
     "output_type": "execute_result"
    }
   ],
   "source": [
    "logdf.sort_values(by='LRBALabs', ascending=False)[:20]"
   ]
  },
  {
   "cell_type": "markdown",
   "metadata": {},
   "source": [
    "<div class=\"alert alert-block alert-info\">\n",
    "<b> 10. Random Forest</b> \n",
    "</div>"
   ]
  },
  {
   "cell_type": "code",
   "execution_count": 48,
   "metadata": {},
   "outputs": [],
   "source": [
    "ranf_parameters = {\n",
    "    'n_estimators': [100, 200, 500, 800],\n",
    "    'max_features': ['auto', 'sqrt'],\n",
    "    'max_depth' : [4,6,8],\n",
    "    'criterion' :['gini']\n",
    "}"
   ]
  },
  {
   "cell_type": "code",
   "execution_count": 31,
   "metadata": {},
   "outputs": [
    {
     "name": "stdout",
     "output_type": "stream",
     "text": [
      "Fitting 5 folds for each of 24 candidates, totalling 120 fits\n"
     ]
    },
    {
     "name": "stderr",
     "output_type": "stream",
     "text": [
      "[Parallel(n_jobs=-1)]: Using backend LokyBackend with 4 concurrent workers.\n",
      "[Parallel(n_jobs=-1)]: Done  17 tasks      | elapsed:   35.7s\n",
      "[Parallel(n_jobs=-1)]: Done  90 tasks      | elapsed:  3.3min\n",
      "[Parallel(n_jobs=-1)]: Done 120 out of 120 | elapsed:  5.4min finished\n"
     ]
    },
    {
     "name": "stdout",
     "output_type": "stream",
     "text": [
      "Best cross-validated parameters: {'criterion': 'gini', 'max_depth': 8, 'max_features': 'auto', 'n_estimators': 200}\n",
      "RandomForestClassifier(bootstrap=True, class_weight=None, criterion='gini',\n",
      "            max_depth=None, max_features='auto', max_leaf_nodes=None,\n",
      "            min_impurity_decrease=0.0, min_impurity_split=None,\n",
      "            min_samples_leaf=1, min_samples_split=2,\n",
      "            min_weight_fraction_leaf=0.0, n_estimators='warn', n_jobs=None,\n",
      "            oob_score=False, random_state=None, verbose=0,\n",
      "            warm_start=False) Score 0.8815361890694239\n",
      "Confusion matrix:  [[8597   39]\n",
      " [1164  355]]\n",
      "              precision    recall  f1-score   support\n",
      "\n",
      "           0       0.88      1.00      0.93      8636\n",
      "           1       0.90      0.23      0.37      1519\n",
      "\n",
      "   micro avg       0.88      0.88      0.88     10155\n",
      "   macro avg       0.89      0.61      0.65     10155\n",
      "weighted avg       0.88      0.88      0.85     10155\n",
      "\n",
      "RandomForestClassifier(bootstrap=True, class_weight=None, criterion='gini',\n",
      "            max_depth=None, max_features='auto', max_leaf_nodes=None,\n",
      "            min_impurity_decrease=0.0, min_impurity_split=None,\n",
      "            min_samples_leaf=1, min_samples_split=2,\n",
      "            min_weight_fraction_leaf=0.0, n_estimators='warn', n_jobs=None,\n",
      "            oob_score=False, random_state=None, verbose=0,\n",
      "            warm_start=False) Classification AUC: 0.8973373321896705\n",
      "Recall score: 0.2337063857801185\n"
     ]
    }
   ],
   "source": [
    "bestrf = gscv(RandomForestClassifier(), ranf_parameters, 5, Xs_train, \\\n",
    "                    y_train, Xs_test, y_test)"
   ]
  },
  {
   "cell_type": "code",
   "execution_count": 32,
   "metadata": {},
   "outputs": [],
   "source": [
    "logdf = coeff(logdf, 'bestrf', X)\n"
   ]
  },
  {
   "cell_type": "code",
   "execution_count": 49,
   "metadata": {},
   "outputs": [
    {
     "name": "stdout",
     "output_type": "stream",
     "text": [
      "Fitting 5 folds for each of 24 candidates, totalling 120 fits\n"
     ]
    },
    {
     "name": "stderr",
     "output_type": "stream",
     "text": [
      "[Parallel(n_jobs=-1)]: Using backend LokyBackend with 4 concurrent workers.\n",
      "[Parallel(n_jobs=-1)]: Done  17 tasks      | elapsed:   19.4s\n",
      "[Parallel(n_jobs=-1)]: Done  90 tasks      | elapsed:  1.8min\n",
      "[Parallel(n_jobs=-1)]: Done 120 out of 120 | elapsed:  3.0min finished\n"
     ]
    },
    {
     "name": "stdout",
     "output_type": "stream",
     "text": [
      "Best cross-validated parameters: {'criterion': 'gini', 'max_depth': 8, 'max_features': 'sqrt', 'n_estimators': 500}\n",
      "RandomForestClassifier(bootstrap=True, class_weight='balanced',\n",
      "            criterion='gini', max_depth=None, max_features='auto',\n",
      "            max_leaf_nodes=None, min_impurity_decrease=0.0,\n",
      "            min_impurity_split=None, min_samples_leaf=1,\n",
      "            min_samples_split=2, min_weight_fraction_leaf=0.0,\n",
      "            n_estimators='warn', n_jobs=None, oob_score=False,\n",
      "            random_state=None, verbose=0, warm_start=False) Score 0.8664697193500739\n",
      "Confusion matrix:  [[7621 1015]\n",
      " [ 341 1178]]\n",
      "              precision    recall  f1-score   support\n",
      "\n",
      "           0       0.96      0.88      0.92      8636\n",
      "           1       0.54      0.78      0.63      1519\n",
      "\n",
      "   micro avg       0.87      0.87      0.87     10155\n",
      "   macro avg       0.75      0.83      0.78     10155\n",
      "weighted avg       0.89      0.87      0.88     10155\n",
      "\n",
      "RandomForestClassifier(bootstrap=True, class_weight='balanced',\n",
      "            criterion='gini', max_depth=None, max_features='auto',\n",
      "            max_leaf_nodes=None, min_impurity_decrease=0.0,\n",
      "            min_impurity_split=None, min_samples_leaf=1,\n",
      "            min_samples_split=2, min_weight_fraction_leaf=0.0,\n",
      "            n_estimators='warn', n_jobs=None, oob_score=False,\n",
      "            random_state=None, verbose=0, warm_start=False) Classification AUC: 0.8997639060704292\n",
      "Recall score: 0.7755102040816326\n"
     ]
    }
   ],
   "source": [
    "bestrfbal = gscv(RandomForestClassifier(class_weight='balanced'), ranf_parameters, 5, Xs_train, \\\n",
    "                    y_train, Xs_test, y_test)"
   ]
  },
  {
   "cell_type": "code",
   "execution_count": 37,
   "metadata": {},
   "outputs": [],
   "source": [
    "logdf = coeff(logdf, 'bestrfbal', X)"
   ]
  },
  {
   "cell_type": "code",
   "execution_count": 38,
   "metadata": {},
   "outputs": [
    {
     "data": {
      "text/plain": [
       "Index(['LR', 'LRabs', 'LRBAL', 'LRBALabs', 'RF', 'RFabs', 'RFBAL', 'RFBALabs'], dtype='object')"
      ]
     },
     "execution_count": 38,
     "metadata": {},
     "output_type": "execute_result"
    }
   ],
   "source": [
    "logdf.columns"
   ]
  },
  {
   "cell_type": "code",
   "execution_count": 40,
   "metadata": {},
   "outputs": [
    {
     "data": {
      "text/html": [
       "<div>\n",
       "<style scoped>\n",
       "    .dataframe tbody tr th:only-of-type {\n",
       "        vertical-align: middle;\n",
       "    }\n",
       "\n",
       "    .dataframe tbody tr th {\n",
       "        vertical-align: top;\n",
       "    }\n",
       "\n",
       "    .dataframe thead th {\n",
       "        text-align: right;\n",
       "    }\n",
       "</style>\n",
       "<table border=\"1\" class=\"dataframe\">\n",
       "  <thead>\n",
       "    <tr style=\"text-align: right;\">\n",
       "      <th></th>\n",
       "      <th>LR</th>\n",
       "      <th>LRabs</th>\n",
       "      <th>LRBAL</th>\n",
       "      <th>LRBALabs</th>\n",
       "      <th>RF</th>\n",
       "      <th>RFabs</th>\n",
       "      <th>RFBAL</th>\n",
       "      <th>RFBALabs</th>\n",
       "    </tr>\n",
       "  </thead>\n",
       "  <tbody>\n",
       "    <tr>\n",
       "      <th>Term</th>\n",
       "      <td>-1.745316</td>\n",
       "      <td>1.745316</td>\n",
       "      <td>-1.388303</td>\n",
       "      <td>1.388303</td>\n",
       "      <td>0.425129</td>\n",
       "      <td>0.425129</td>\n",
       "      <td>0.382227</td>\n",
       "      <td>0.382227</td>\n",
       "    </tr>\n",
       "    <tr>\n",
       "      <th>recession</th>\n",
       "      <td>-0.468973</td>\n",
       "      <td>0.468973</td>\n",
       "      <td>-0.572438</td>\n",
       "      <td>0.572438</td>\n",
       "      <td>0.116857</td>\n",
       "      <td>0.116857</td>\n",
       "      <td>0.135620</td>\n",
       "      <td>0.135620</td>\n",
       "    </tr>\n",
       "    <tr>\n",
       "      <th>FYA05-09</th>\n",
       "      <td>0.519968</td>\n",
       "      <td>0.519968</td>\n",
       "      <td>0.252882</td>\n",
       "      <td>0.252882</td>\n",
       "      <td>0.054926</td>\n",
       "      <td>0.054926</td>\n",
       "      <td>0.078114</td>\n",
       "      <td>0.078114</td>\n",
       "    </tr>\n",
       "    <tr>\n",
       "      <th>BankState_PA</th>\n",
       "      <td>-3.069139</td>\n",
       "      <td>3.069139</td>\n",
       "      <td>-2.720251</td>\n",
       "      <td>2.720251</td>\n",
       "      <td>0.047380</td>\n",
       "      <td>0.047380</td>\n",
       "      <td>0.047709</td>\n",
       "      <td>0.047709</td>\n",
       "    </tr>\n",
       "    <tr>\n",
       "      <th>RetainedJob</th>\n",
       "      <td>0.498619</td>\n",
       "      <td>0.498619</td>\n",
       "      <td>0.305674</td>\n",
       "      <td>0.305674</td>\n",
       "      <td>0.033130</td>\n",
       "      <td>0.033130</td>\n",
       "      <td>0.037221</td>\n",
       "      <td>0.037221</td>\n",
       "    </tr>\n",
       "    <tr>\n",
       "      <th>SBAgtee</th>\n",
       "      <td>0.219516</td>\n",
       "      <td>0.219516</td>\n",
       "      <td>0.201408</td>\n",
       "      <td>0.201408</td>\n",
       "      <td>0.027301</td>\n",
       "      <td>0.027301</td>\n",
       "      <td>0.031059</td>\n",
       "      <td>0.031059</td>\n",
       "    </tr>\n",
       "    <tr>\n",
       "      <th>GrAppv</th>\n",
       "      <td>0.280430</td>\n",
       "      <td>0.280430</td>\n",
       "      <td>0.450583</td>\n",
       "      <td>0.450583</td>\n",
       "      <td>0.028785</td>\n",
       "      <td>0.028785</td>\n",
       "      <td>0.030599</td>\n",
       "      <td>0.030599</td>\n",
       "    </tr>\n",
       "    <tr>\n",
       "      <th>FYA00-04</th>\n",
       "      <td>0.013007</td>\n",
       "      <td>0.013007</td>\n",
       "      <td>-0.316045</td>\n",
       "      <td>0.316045</td>\n",
       "      <td>0.024542</td>\n",
       "      <td>0.024542</td>\n",
       "      <td>0.027090</td>\n",
       "      <td>0.027090</td>\n",
       "    </tr>\n",
       "    <tr>\n",
       "      <th>UrbanRural</th>\n",
       "      <td>-0.054835</td>\n",
       "      <td>0.054835</td>\n",
       "      <td>-0.054878</td>\n",
       "      <td>0.054878</td>\n",
       "      <td>0.021466</td>\n",
       "      <td>0.021466</td>\n",
       "      <td>0.024412</td>\n",
       "      <td>0.024412</td>\n",
       "    </tr>\n",
       "    <tr>\n",
       "      <th>FYA90-94</th>\n",
       "      <td>-0.543685</td>\n",
       "      <td>0.543685</td>\n",
       "      <td>-0.687084</td>\n",
       "      <td>0.687084</td>\n",
       "      <td>0.012842</td>\n",
       "      <td>0.012842</td>\n",
       "      <td>0.023169</td>\n",
       "      <td>0.023169</td>\n",
       "    </tr>\n",
       "    <tr>\n",
       "      <th>FYA95-99</th>\n",
       "      <td>-0.277991</td>\n",
       "      <td>0.277991</td>\n",
       "      <td>-0.465495</td>\n",
       "      <td>0.465495</td>\n",
       "      <td>0.011767</td>\n",
       "      <td>0.011767</td>\n",
       "      <td>0.021180</td>\n",
       "      <td>0.021180</td>\n",
       "    </tr>\n",
       "    <tr>\n",
       "      <th>NoEmp</th>\n",
       "      <td>-2.142657</td>\n",
       "      <td>2.142657</td>\n",
       "      <td>-1.950210</td>\n",
       "      <td>1.950210</td>\n",
       "      <td>0.012176</td>\n",
       "      <td>0.012176</td>\n",
       "      <td>0.013928</td>\n",
       "      <td>0.013928</td>\n",
       "    </tr>\n",
       "    <tr>\n",
       "      <th>BankState_CA</th>\n",
       "      <td>-0.563604</td>\n",
       "      <td>0.563604</td>\n",
       "      <td>-0.479746</td>\n",
       "      <td>0.479746</td>\n",
       "      <td>0.016698</td>\n",
       "      <td>0.016698</td>\n",
       "      <td>0.012124</td>\n",
       "      <td>0.012124</td>\n",
       "    </tr>\n",
       "    <tr>\n",
       "      <th>BankState_RI</th>\n",
       "      <td>-1.868940</td>\n",
       "      <td>1.868940</td>\n",
       "      <td>-1.701393</td>\n",
       "      <td>1.701393</td>\n",
       "      <td>0.031476</td>\n",
       "      <td>0.031476</td>\n",
       "      <td>0.011426</td>\n",
       "      <td>0.011426</td>\n",
       "    </tr>\n",
       "    <tr>\n",
       "      <th>FYA80-84</th>\n",
       "      <td>0.309482</td>\n",
       "      <td>0.309482</td>\n",
       "      <td>0.234433</td>\n",
       "      <td>0.234433</td>\n",
       "      <td>0.011411</td>\n",
       "      <td>0.011411</td>\n",
       "      <td>0.009403</td>\n",
       "      <td>0.009403</td>\n",
       "    </tr>\n",
       "    <tr>\n",
       "      <th>lowdocs</th>\n",
       "      <td>0.036420</td>\n",
       "      <td>0.036420</td>\n",
       "      <td>-0.007112</td>\n",
       "      <td>0.007112</td>\n",
       "      <td>0.005545</td>\n",
       "      <td>0.005545</td>\n",
       "      <td>0.008960</td>\n",
       "      <td>0.008960</td>\n",
       "    </tr>\n",
       "    <tr>\n",
       "      <th>FYA10-14</th>\n",
       "      <td>-0.202094</td>\n",
       "      <td>0.202094</td>\n",
       "      <td>-0.363190</td>\n",
       "      <td>0.363190</td>\n",
       "      <td>0.007142</td>\n",
       "      <td>0.007142</td>\n",
       "      <td>0.007963</td>\n",
       "      <td>0.007963</td>\n",
       "    </tr>\n",
       "    <tr>\n",
       "      <th>lineofcredit</th>\n",
       "      <td>-0.125724</td>\n",
       "      <td>0.125724</td>\n",
       "      <td>-0.123509</td>\n",
       "      <td>0.123509</td>\n",
       "      <td>0.005421</td>\n",
       "      <td>0.005421</td>\n",
       "      <td>0.006868</td>\n",
       "      <td>0.006868</td>\n",
       "    </tr>\n",
       "    <tr>\n",
       "      <th>CreateJob</th>\n",
       "      <td>-0.436808</td>\n",
       "      <td>0.436808</td>\n",
       "      <td>-0.271639</td>\n",
       "      <td>0.271639</td>\n",
       "      <td>0.006347</td>\n",
       "      <td>0.006347</td>\n",
       "      <td>0.006151</td>\n",
       "      <td>0.006151</td>\n",
       "    </tr>\n",
       "    <tr>\n",
       "      <th>BankState_VA</th>\n",
       "      <td>-0.604148</td>\n",
       "      <td>0.604148</td>\n",
       "      <td>-0.551906</td>\n",
       "      <td>0.551906</td>\n",
       "      <td>0.010884</td>\n",
       "      <td>0.010884</td>\n",
       "      <td>0.005809</td>\n",
       "      <td>0.005809</td>\n",
       "    </tr>\n",
       "  </tbody>\n",
       "</table>\n",
       "</div>"
      ],
      "text/plain": [
       "                    LR     LRabs     LRBAL  LRBALabs        RF     RFabs  \\\n",
       "Term         -1.745316  1.745316 -1.388303  1.388303  0.425129  0.425129   \n",
       "recession    -0.468973  0.468973 -0.572438  0.572438  0.116857  0.116857   \n",
       "FYA05-09      0.519968  0.519968  0.252882  0.252882  0.054926  0.054926   \n",
       "BankState_PA -3.069139  3.069139 -2.720251  2.720251  0.047380  0.047380   \n",
       "RetainedJob   0.498619  0.498619  0.305674  0.305674  0.033130  0.033130   \n",
       "SBAgtee       0.219516  0.219516  0.201408  0.201408  0.027301  0.027301   \n",
       "GrAppv        0.280430  0.280430  0.450583  0.450583  0.028785  0.028785   \n",
       "FYA00-04      0.013007  0.013007 -0.316045  0.316045  0.024542  0.024542   \n",
       "UrbanRural   -0.054835  0.054835 -0.054878  0.054878  0.021466  0.021466   \n",
       "FYA90-94     -0.543685  0.543685 -0.687084  0.687084  0.012842  0.012842   \n",
       "FYA95-99     -0.277991  0.277991 -0.465495  0.465495  0.011767  0.011767   \n",
       "NoEmp        -2.142657  2.142657 -1.950210  1.950210  0.012176  0.012176   \n",
       "BankState_CA -0.563604  0.563604 -0.479746  0.479746  0.016698  0.016698   \n",
       "BankState_RI -1.868940  1.868940 -1.701393  1.701393  0.031476  0.031476   \n",
       "FYA80-84      0.309482  0.309482  0.234433  0.234433  0.011411  0.011411   \n",
       "lowdocs       0.036420  0.036420 -0.007112  0.007112  0.005545  0.005545   \n",
       "FYA10-14     -0.202094  0.202094 -0.363190  0.363190  0.007142  0.007142   \n",
       "lineofcredit -0.125724  0.125724 -0.123509  0.123509  0.005421  0.005421   \n",
       "CreateJob    -0.436808  0.436808 -0.271639  0.271639  0.006347  0.006347   \n",
       "BankState_VA -0.604148  0.604148 -0.551906  0.551906  0.010884  0.010884   \n",
       "\n",
       "                 RFBAL  RFBALabs  \n",
       "Term          0.382227  0.382227  \n",
       "recession     0.135620  0.135620  \n",
       "FYA05-09      0.078114  0.078114  \n",
       "BankState_PA  0.047709  0.047709  \n",
       "RetainedJob   0.037221  0.037221  \n",
       "SBAgtee       0.031059  0.031059  \n",
       "GrAppv        0.030599  0.030599  \n",
       "FYA00-04      0.027090  0.027090  \n",
       "UrbanRural    0.024412  0.024412  \n",
       "FYA90-94      0.023169  0.023169  \n",
       "FYA95-99      0.021180  0.021180  \n",
       "NoEmp         0.013928  0.013928  \n",
       "BankState_CA  0.012124  0.012124  \n",
       "BankState_RI  0.011426  0.011426  \n",
       "FYA80-84      0.009403  0.009403  \n",
       "lowdocs       0.008960  0.008960  \n",
       "FYA10-14      0.007963  0.007963  \n",
       "lineofcredit  0.006868  0.006868  \n",
       "CreateJob     0.006151  0.006151  \n",
       "BankState_VA  0.005809  0.005809  "
      ]
     },
     "execution_count": 40,
     "metadata": {},
     "output_type": "execute_result"
    }
   ],
   "source": [
    "logdf = logdf.sort_values(by='RFBALabs', ascending=False)\n",
    "logdf[:20]"
   ]
  },
  {
   "cell_type": "code",
   "execution_count": 41,
   "metadata": {},
   "outputs": [],
   "source": [
    "logdf.to_pickle('./coefficients.pkl')"
   ]
  },
  {
   "cell_type": "markdown",
   "metadata": {},
   "source": [
    "<div class=\"alert alert-block alert-info\">\n",
    "<b>5. SVM</b> \n",
    "</div>"
   ]
  },
  {
   "cell_type": "code",
   "execution_count": 42,
   "metadata": {},
   "outputs": [],
   "source": [
    "svm_parameters = {\n",
    "    'C': [0.01, 1, 10],\n",
    "    'gamma': [0.001, 0.01, 0.1],\n",
    "    'kernel':['rbf']\n",
    "}\n"
   ]
  },
  {
   "cell_type": "code",
   "execution_count": 44,
   "metadata": {},
   "outputs": [
    {
     "name": "stdout",
     "output_type": "stream",
     "text": [
      "Fitting 5 folds for each of 9 candidates, totalling 45 fits\n"
     ]
    },
    {
     "name": "stderr",
     "output_type": "stream",
     "text": [
      "[Parallel(n_jobs=-1)]: Using backend LokyBackend with 4 concurrent workers.\n",
      "[Parallel(n_jobs=-1)]: Done  17 tasks      | elapsed: 44.6min\n",
      "[Parallel(n_jobs=-1)]: Done  45 out of  45 | elapsed: 160.0min finished\n"
     ]
    },
    {
     "name": "stdout",
     "output_type": "stream",
     "text": [
      "Best cross-validated parameters: {'C': 10, 'gamma': 0.01, 'kernel': 'rbf'}\n",
      "SVC(C=1.0, cache_size=200, class_weight=None, coef0=0.0,\n",
      "  decision_function_shape='ovr', degree=3, gamma='auto_deprecated',\n",
      "  kernel='rbf', max_iter=-1, probability=True, random_state=None,\n",
      "  shrinking=True, tol=0.001, verbose=False) Score 0.8958148695224027\n",
      "Confusion matrix:  [[8320  316]\n",
      " [ 742  777]]\n",
      "              precision    recall  f1-score   support\n",
      "\n",
      "           0       0.92      0.96      0.94      8636\n",
      "           1       0.71      0.51      0.59      1519\n",
      "\n",
      "   micro avg       0.90      0.90      0.90     10155\n",
      "   macro avg       0.81      0.74      0.77     10155\n",
      "weighted avg       0.89      0.90      0.89     10155\n",
      "\n",
      "SVC(C=1.0, cache_size=200, class_weight=None, coef0=0.0,\n",
      "  decision_function_shape='ovr', degree=3, gamma='auto_deprecated',\n",
      "  kernel='rbf', max_iter=-1, probability=True, random_state=None,\n",
      "  shrinking=True, tol=0.001, verbose=False) Classification AUC: 0.8808405633017748\n",
      "Recall score: 0.511520737327189\n"
     ]
    }
   ],
   "source": [
    "bestsvm = gscv(SVC(probability=True), svm_parameters, 5, Xs_train, y_train, Xs_test, y_test)"
   ]
  },
  {
   "cell_type": "markdown",
   "metadata": {},
   "source": [
    "<div class=\"alert alert-block alert-info\">\n",
    "<b>12. SVM + Balanced Weights</b> \n",
    "</div>"
   ]
  },
  {
   "cell_type": "code",
   "execution_count": 45,
   "metadata": {},
   "outputs": [
    {
     "name": "stdout",
     "output_type": "stream",
     "text": [
      "Fitting 5 folds for each of 9 candidates, totalling 45 fits\n"
     ]
    },
    {
     "name": "stderr",
     "output_type": "stream",
     "text": [
      "[Parallel(n_jobs=-1)]: Using backend LokyBackend with 4 concurrent workers.\n",
      "[Parallel(n_jobs=-1)]: Done  17 tasks      | elapsed: 68.7min\n",
      "[Parallel(n_jobs=-1)]: Done  45 out of  45 | elapsed: 195.0min finished\n"
     ]
    },
    {
     "name": "stdout",
     "output_type": "stream",
     "text": [
      "Best cross-validated parameters: {'C': 10, 'gamma': 0.1, 'kernel': 'rbf'}\n",
      "SVC(C=1.0, cache_size=200, class_weight='balanced', coef0=0.0,\n",
      "  decision_function_shape='ovr', degree=3, gamma='auto_deprecated',\n",
      "  kernel='rbf', max_iter=-1, probability=True, random_state=None,\n",
      "  shrinking=True, tol=0.001, verbose=False) Score 0.8560315115706548\n",
      "Confusion matrix:  [[8236  400]\n",
      " [1062  457]]\n",
      "              precision    recall  f1-score   support\n",
      "\n",
      "           0       0.89      0.95      0.92      8636\n",
      "           1       0.53      0.30      0.38      1519\n",
      "\n",
      "   micro avg       0.86      0.86      0.86     10155\n",
      "   macro avg       0.71      0.63      0.65     10155\n",
      "weighted avg       0.83      0.86      0.84     10155\n",
      "\n",
      "SVC(C=1.0, cache_size=200, class_weight='balanced', coef0=0.0,\n",
      "  decision_function_shape='ovr', degree=3, gamma='auto_deprecated',\n",
      "  kernel='rbf', max_iter=-1, probability=True, random_state=None,\n",
      "  shrinking=True, tol=0.001, verbose=False) Classification AUC: 0.7938092178705366\n",
      "Recall score: 0.3008558262014483\n"
     ]
    }
   ],
   "source": [
    "bestsvmbal = gscv(SVC(class_weight='balanced', probability=True), svm_parameters, 5, Xs_train, y_train, Xs_test, y_test)"
   ]
  },
  {
   "cell_type": "markdown",
   "metadata": {},
   "source": [
    "<div class=\"alert alert-block alert-info\">\n",
    "<b>6. Neural Networks</b> \n",
    "</div>"
   ]
  },
  {
   "cell_type": "code",
   "execution_count": 46,
   "metadata": {},
   "outputs": [],
   "source": [
    "nn_parameters = {\n",
    "    'hidden_layer_sizes': [(50,50,50), (50,100,50), (100,)],\n",
    "    'activation': ['tanh', 'relu'],\n",
    "    'solver': ['sgd'],\n",
    "    'alpha': [0.0001, 0.05],\n",
    "    'learning_rate': ['constant'],\n",
    "}\n"
   ]
  },
  {
   "cell_type": "code",
   "execution_count": 47,
   "metadata": {},
   "outputs": [
    {
     "name": "stdout",
     "output_type": "stream",
     "text": [
      "Fitting 5 folds for each of 12 candidates, totalling 60 fits\n"
     ]
    },
    {
     "name": "stderr",
     "output_type": "stream",
     "text": [
      "[Parallel(n_jobs=-1)]: Using backend LokyBackend with 4 concurrent workers.\n",
      "[Parallel(n_jobs=-1)]: Done  17 tasks      | elapsed:  2.6min\n",
      "[Parallel(n_jobs=-1)]: Done  60 out of  60 | elapsed:  7.9min finished\n",
      "C:\\Users\\schen24\\Anaconda3\\lib\\site-packages\\sklearn\\neural_network\\multilayer_perceptron.py:562: ConvergenceWarning: Stochastic Optimizer: Maximum iterations (100) reached and the optimization hasn't converged yet.\n",
      "  % self.max_iter, ConvergenceWarning)\n"
     ]
    },
    {
     "name": "stdout",
     "output_type": "stream",
     "text": [
      "Best cross-validated parameters: {'activation': 'relu', 'alpha': 0.05, 'hidden_layer_sizes': (50, 50, 50), 'learning_rate': 'constant', 'solver': 'sgd'}\n",
      "MLPClassifier(activation='relu', alpha=0.0001, batch_size='auto', beta_1=0.9,\n",
      "       beta_2=0.999, early_stopping=False, epsilon=1e-08,\n",
      "       hidden_layer_sizes=(100,), learning_rate='constant',\n",
      "       learning_rate_init=0.001, max_iter=100, momentum=0.9,\n",
      "       n_iter_no_change=10, nesterovs_momentum=True, power_t=0.5,\n",
      "       random_state=None, shuffle=True, solver='adam', tol=0.0001,\n",
      "       validation_fraction=0.1, verbose=False, warm_start=False) Score 0.8981782373215165\n",
      "Confusion matrix:  [[8366  270]\n",
      " [ 764  755]]\n",
      "              precision    recall  f1-score   support\n",
      "\n",
      "           0       0.92      0.97      0.94      8636\n",
      "           1       0.74      0.50      0.59      1519\n",
      "\n",
      "   micro avg       0.90      0.90      0.90     10155\n",
      "   macro avg       0.83      0.73      0.77     10155\n",
      "weighted avg       0.89      0.90      0.89     10155\n",
      "\n",
      "MLPClassifier(activation='relu', alpha=0.0001, batch_size='auto', beta_1=0.9,\n",
      "       beta_2=0.999, early_stopping=False, epsilon=1e-08,\n",
      "       hidden_layer_sizes=(100,), learning_rate='constant',\n",
      "       learning_rate_init=0.001, max_iter=100, momentum=0.9,\n",
      "       n_iter_no_change=10, nesterovs_momentum=True, power_t=0.5,\n",
      "       random_state=None, shuffle=True, solver='adam', tol=0.0001,\n",
      "       validation_fraction=0.1, verbose=False, warm_start=False) Classification AUC: 0.8837643134469944\n",
      "Recall score: 0.4970375246872943\n"
     ]
    }
   ],
   "source": [
    "bestnn = gscv(MLPClassifier(max_iter=100), nn_parameters, 5, Xs_train, \\\n",
    "             \n",
    "                y_train, Xs_test, y_test)\n"
   ]
  },
  {
   "cell_type": "markdown",
   "metadata": {},
   "source": [
    "<div class=\"alert alert-block alert-info\">\n",
    "<b>7. NN + Balanced Weights</b> \n",
    "</div>"
   ]
  },
  {
   "cell_type": "code",
   "execution_count": 48,
   "metadata": {},
   "outputs": [],
   "source": [
    "from sklearn.datasets import make_classification\n",
    "from imblearn.datasets import make_imbalance\n",
    "from imblearn.under_sampling import RandomUnderSampler"
   ]
  },
  {
   "cell_type": "code",
   "execution_count": 49,
   "metadata": {},
   "outputs": [],
   "source": [
    "# unf there is no built-in balanced weights option in MLPclassifier, so we'll have to undersample\n",
    "# X instead (we have enough samples)"
   ]
  },
  {
   "cell_type": "code",
   "execution_count": 50,
   "metadata": {},
   "outputs": [
    {
     "data": {
      "text/plain": [
       "3545"
      ]
     },
     "execution_count": 50,
     "metadata": {},
     "output_type": "execute_result"
    }
   ],
   "source": [
    "len(y_train[y_train==1])"
   ]
  },
  {
   "cell_type": "code",
   "execution_count": 51,
   "metadata": {},
   "outputs": [
    {
     "name": "stderr",
     "output_type": "stream",
     "text": [
      "C:\\Users\\schen24\\Anaconda3\\lib\\site-packages\\imblearn\\datasets\\_imbalance.py:105: UserWarning: 'ratio' has been deprecated in 0.4 and will be removed in 0.6. Use 'sampling_strategy' instead.\n",
      "  warnings.warn(\"'ratio' has been deprecated in 0.4 and will be \"\n"
     ]
    }
   ],
   "source": [
    "us_X, us_y = make_imbalance(Xs_train, y_train, ratio={1: 3545, 0: 3545},\n",
    "                      random_state=0)\n",
    "# rus = RandomUnderSampler(random_state=10)\n",
    "# rus.fit(Xs_train, y_train)\n",
    "# us_X, us_Y = rus.fit_sample(Xs_train, y_train)\n"
   ]
  },
  {
   "cell_type": "code",
   "execution_count": 52,
   "metadata": {},
   "outputs": [
    {
     "data": {
      "text/plain": [
       "7090"
      ]
     },
     "execution_count": 52,
     "metadata": {},
     "output_type": "execute_result"
    }
   ],
   "source": [
    "len(us_y)"
   ]
  },
  {
   "cell_type": "code",
   "execution_count": 53,
   "metadata": {},
   "outputs": [
    {
     "name": "stderr",
     "output_type": "stream",
     "text": [
      "[Parallel(n_jobs=-1)]: Using backend LokyBackend with 4 concurrent workers.\n"
     ]
    },
    {
     "name": "stdout",
     "output_type": "stream",
     "text": [
      "Fitting 5 folds for each of 12 candidates, totalling 60 fits\n"
     ]
    },
    {
     "name": "stderr",
     "output_type": "stream",
     "text": [
      "[Parallel(n_jobs=-1)]: Done  17 tasks      | elapsed:   44.9s\n",
      "[Parallel(n_jobs=-1)]: Done  60 out of  60 | elapsed:  2.3min finished\n",
      "C:\\Users\\schen24\\Anaconda3\\lib\\site-packages\\sklearn\\neural_network\\multilayer_perceptron.py:562: ConvergenceWarning: Stochastic Optimizer: Maximum iterations (100) reached and the optimization hasn't converged yet.\n",
      "  % self.max_iter, ConvergenceWarning)\n"
     ]
    },
    {
     "name": "stdout",
     "output_type": "stream",
     "text": [
      "Best cross-validated parameters: {'activation': 'tanh', 'alpha': 0.05, 'hidden_layer_sizes': (50, 50, 50), 'learning_rate': 'constant', 'solver': 'sgd'}\n",
      "MLPClassifier(activation='relu', alpha=0.0001, batch_size='auto', beta_1=0.9,\n",
      "       beta_2=0.999, early_stopping=False, epsilon=1e-08,\n",
      "       hidden_layer_sizes=(100,), learning_rate='constant',\n",
      "       learning_rate_init=0.001, max_iter=100, momentum=0.9,\n",
      "       n_iter_no_change=10, nesterovs_momentum=True, power_t=0.5,\n",
      "       random_state=None, shuffle=True, solver='adam', tol=0.0001,\n",
      "       validation_fraction=0.1, verbose=False, warm_start=False) Score 0.7698670605612998\n",
      "Confusion matrix:  [[6584 2052]\n",
      " [ 285 1234]]\n",
      "              precision    recall  f1-score   support\n",
      "\n",
      "           0       0.96      0.76      0.85      8636\n",
      "           1       0.38      0.81      0.51      1519\n",
      "\n",
      "   micro avg       0.77      0.77      0.77     10155\n",
      "   macro avg       0.67      0.79      0.68     10155\n",
      "weighted avg       0.87      0.77      0.80     10155\n",
      "\n",
      "MLPClassifier(activation='relu', alpha=0.0001, batch_size='auto', beta_1=0.9,\n",
      "       beta_2=0.999, early_stopping=False, epsilon=1e-08,\n",
      "       hidden_layer_sizes=(100,), learning_rate='constant',\n",
      "       learning_rate_init=0.001, max_iter=100, momentum=0.9,\n",
      "       n_iter_no_change=10, nesterovs_momentum=True, power_t=0.5,\n",
      "       random_state=None, shuffle=True, solver='adam', tol=0.0001,\n",
      "       validation_fraction=0.1, verbose=False, warm_start=False) Classification AUC: 0.863356150181688\n",
      "Recall score: 0.8123765635286373\n"
     ]
    }
   ],
   "source": [
    "bestnnbal = gscv(MLPClassifier(max_iter=100), nn_parameters, 5, us_X, \\\n",
    "             \n",
    "                us_y, Xs_test, y_test)"
   ]
  },
  {
   "cell_type": "code",
   "execution_count": 68,
   "metadata": {},
   "outputs": [],
   "source": [
    "def modelresults(methods, baselines):\n",
    "    zipped = list(zip(methods, baselines))\n",
    "    results = pd.DataFrame(zipped, columns=['methods','baseline'])\n",
    "    # create two new cols for score and auc \n",
    "    for row in results.index:\n",
    "        x = globals()[results.loc[row,'methods']]\n",
    "        results.loc[row, 'accuracy'] = x[1]\n",
    "        results.loc[row, 'auc'] = x[2]\n",
    "        results.loc[row,'recall'] = x[3]\n",
    "    #results['scorediff'] = results.score-results.baseline\n",
    "    results = results.sort_values(by='recall', ascending=False)\n",
    "    results['methods'] = results['methods'].map(mdict)\n",
    "    return results"
   ]
  },
  {
   "cell_type": "code",
   "execution_count": 69,
   "metadata": {},
   "outputs": [],
   "source": [
    "methods = ['bestlr', 'bestlrbal', 'bestrf', 'bestrfbal','bestsvm', 'bestsvmbal', 'bestnn', 'bestnnbal']\n",
    "mdict = {'bestlr':'Logistic Regression', 'bestlrbal':'Logistic Regression (Bal)', 'bestrf':'Random Forest', \\\n",
    "         'bestrfbal':'Random Forest (Bal)','bestsvm': 'Support Vector Machines', \\\n",
    "         'bestsvmbal':'Support Vector Machines (Bal)', 'bestnn':'Neural Networks', 'bestnnbal':'Neural Networks (Bal)'}\n",
    "baselines = [baseline for n in methods]"
   ]
  },
  {
   "cell_type": "code",
   "execution_count": 70,
   "metadata": {},
   "outputs": [
    {
     "ename": "KeyError",
     "evalue": "'bestlr'",
     "output_type": "error",
     "traceback": [
      "\u001b[1;31m---------------------------------------------------------------------------\u001b[0m",
      "\u001b[1;31mKeyError\u001b[0m                                  Traceback (most recent call last)",
      "\u001b[1;32m<ipython-input-70-09068285306f>\u001b[0m in \u001b[0;36m<module>\u001b[1;34m()\u001b[0m\n\u001b[1;32m----> 1\u001b[1;33m \u001b[0mresults\u001b[0m \u001b[1;33m=\u001b[0m \u001b[0mmodelresults\u001b[0m\u001b[1;33m(\u001b[0m\u001b[0mmethods\u001b[0m\u001b[1;33m,\u001b[0m \u001b[0mbaselines\u001b[0m\u001b[1;33m)\u001b[0m\u001b[1;33m\u001b[0m\u001b[0m\n\u001b[0m\u001b[0;32m      2\u001b[0m \u001b[0mresults\u001b[0m \u001b[1;33m=\u001b[0m \u001b[0mresults\u001b[0m\u001b[1;33m[\u001b[0m\u001b[1;33m[\u001b[0m\u001b[1;34m'methods'\u001b[0m\u001b[1;33m,\u001b[0m \u001b[1;34m'recall'\u001b[0m\u001b[1;33m,\u001b[0m \u001b[1;34m'auc'\u001b[0m\u001b[1;33m,\u001b[0m \u001b[1;34m'accuracy'\u001b[0m\u001b[1;33m,\u001b[0m \u001b[1;34m'baseline'\u001b[0m\u001b[1;33m]\u001b[0m\u001b[1;33m]\u001b[0m\u001b[1;33m\u001b[0m\u001b[0m\n\u001b[0;32m      3\u001b[0m \u001b[0mresults\u001b[0m\u001b[1;33m.\u001b[0m\u001b[0msort_values\u001b[0m\u001b[1;33m(\u001b[0m\u001b[0mby\u001b[0m\u001b[1;33m=\u001b[0m\u001b[1;34m'auc'\u001b[0m\u001b[1;33m,\u001b[0m \u001b[0mascending\u001b[0m\u001b[1;33m=\u001b[0m\u001b[1;32mFalse\u001b[0m\u001b[1;33m)\u001b[0m\u001b[1;33m\u001b[0m\u001b[0m\n",
      "\u001b[1;32m<ipython-input-68-73712f364aae>\u001b[0m in \u001b[0;36mmodelresults\u001b[1;34m(methods, baselines)\u001b[0m\n\u001b[0;32m      4\u001b[0m     \u001b[1;31m# create two new cols for score and auc\u001b[0m\u001b[1;33m\u001b[0m\u001b[1;33m\u001b[0m\u001b[0m\n\u001b[0;32m      5\u001b[0m     \u001b[1;32mfor\u001b[0m \u001b[0mrow\u001b[0m \u001b[1;32min\u001b[0m \u001b[0mresults\u001b[0m\u001b[1;33m.\u001b[0m\u001b[0mindex\u001b[0m\u001b[1;33m:\u001b[0m\u001b[1;33m\u001b[0m\u001b[0m\n\u001b[1;32m----> 6\u001b[1;33m         \u001b[0mx\u001b[0m \u001b[1;33m=\u001b[0m \u001b[0mglobals\u001b[0m\u001b[1;33m(\u001b[0m\u001b[1;33m)\u001b[0m\u001b[1;33m[\u001b[0m\u001b[0mresults\u001b[0m\u001b[1;33m.\u001b[0m\u001b[0mloc\u001b[0m\u001b[1;33m[\u001b[0m\u001b[0mrow\u001b[0m\u001b[1;33m,\u001b[0m\u001b[1;34m'methods'\u001b[0m\u001b[1;33m]\u001b[0m\u001b[1;33m]\u001b[0m\u001b[1;33m\u001b[0m\u001b[0m\n\u001b[0m\u001b[0;32m      7\u001b[0m         \u001b[0mresults\u001b[0m\u001b[1;33m.\u001b[0m\u001b[0mloc\u001b[0m\u001b[1;33m[\u001b[0m\u001b[0mrow\u001b[0m\u001b[1;33m,\u001b[0m \u001b[1;34m'accuracy'\u001b[0m\u001b[1;33m]\u001b[0m \u001b[1;33m=\u001b[0m \u001b[0mx\u001b[0m\u001b[1;33m[\u001b[0m\u001b[1;36m1\u001b[0m\u001b[1;33m]\u001b[0m\u001b[1;33m\u001b[0m\u001b[0m\n\u001b[0;32m      8\u001b[0m         \u001b[0mresults\u001b[0m\u001b[1;33m.\u001b[0m\u001b[0mloc\u001b[0m\u001b[1;33m[\u001b[0m\u001b[0mrow\u001b[0m\u001b[1;33m,\u001b[0m \u001b[1;34m'auc'\u001b[0m\u001b[1;33m]\u001b[0m \u001b[1;33m=\u001b[0m \u001b[0mx\u001b[0m\u001b[1;33m[\u001b[0m\u001b[1;36m2\u001b[0m\u001b[1;33m]\u001b[0m\u001b[1;33m\u001b[0m\u001b[0m\n",
      "\u001b[1;31mKeyError\u001b[0m: 'bestlr'"
     ]
    }
   ],
   "source": [
    "results = modelresults(methods, baselines)\n",
    "results = results[['methods', 'recall', 'auc', 'accuracy', 'baseline']]\n",
    "results.sort_values(by='auc', ascending=False)"
   ]
  },
  {
   "cell_type": "code",
   "execution_count": 55,
   "metadata": {},
   "outputs": [
    {
     "name": "stdout",
     "output_type": "stream",
     "text": [
      "Accuracy: 0.8664697193500739\n"
     ]
    },
    {
     "data": {
      "image/png": "[encoded data removed]",
      "text/plain": [
       "<Figure size 288x288 with 1 Axes>"
      ]
     },
     "metadata": {},
     "output_type": "display_data"
    }
   ],
   "source": [
    "# plot roc curve and print accuracy\n",
    "print('Accuracy:', bestrfbal[1])\n",
    "plot_roc(y_test, bestrfbal[0].predict(Xs_test))"
   ]
  },
  {
   "cell_type": "code",
   "execution_count": 75,
   "metadata": {},
   "outputs": [
    {
     "data": {
      "image/png": "[encoded data removed]",
      "text/plain": [
       "<Figure size 432x288 with 1 Axes>"
      ]
     },
     "metadata": {},
     "output_type": "display_data"
    }
   ],
   "source": [
    "from mlxtend.plotting import plot_confusion_matrix\n",
    "binary = np.array([[7642 , 994],\n",
    " [ 345 ,1174]])\n",
    "\n",
    "fig, ax = plot_confusion_matrix(conf_mat=binary,\n",
    "                                show_absolute=True,\n",
    "                                show_normed=True,\n",
    "                                colorbar=False, cmap='Blues')\n",
    "ax = plt.xlabel('Predicted', color='white')\n",
    "ax = plt.ylabel('Actual', color='white')\n",
    "\n",
    "ax = plt.xticks(np.arange(2), ('No Default', 'Default'), color='white')\n",
    "ax = plt.yticks(np.arange(2), ('No Default', 'Default'), color='white')\n",
    "#ax = plt.title('Confusion Matrix Results', color='skyblue')\n",
    "plt.show()"
   ]
  },
  {
   "cell_type": "code",
   "execution_count": 71,
   "metadata": {},
   "outputs": [],
   "source": [
    "#results = pd.read_pickle(\"./finalresults.pkl\")\n",
    "results.to_pickle('./finalresults.pkl')"
   ]
  },
  {
   "cell_type": "code",
   "execution_count": 57,
   "metadata": {},
   "outputs": [
    {
     "data": {
      "text/plain": [
       "Text(0.5,1,'2-class Precision-Recall curve')"
      ]
     },
     "execution_count": 57,
     "metadata": {},
     "output_type": "execute_result"
    },
    {
     "data": {
      "image/png": "[encoded data removed]",
      "text/plain": [
       "<Figure size 432x288 with 1 Axes>"
      ]
     },
     "metadata": {},
     "output_type": "display_data"
    }
   ],
   "source": [
    "from sklearn.metrics import precision_recall_curve\n",
    "import matplotlib.pyplot as plt\n",
    "from sklearn.utils.fixes import signature\n",
    "\n",
    "precision, recall, _ = precision_recall_curve(y_test, bestrfbal[0].predict(Xs_test))\n",
    "\n",
    "# In matplotlib < 1.5, plt.fill_between does not have a 'step' argument\n",
    "step_kwargs = ({'step': 'post'}\n",
    "               if 'step' in signature(plt.fill_between).parameters\n",
    "               else {})\n",
    "plt.step(recall, precision, color='b', alpha=0.2,\n",
    "         where='post')\n",
    "plt.fill_between(recall, precision, alpha=0.2, color='b', **step_kwargs)\n",
    "\n",
    "plt.xlabel('Recall')\n",
    "plt.ylabel('Precision')\n",
    "plt.ylim([0.0, 1.05])\n",
    "plt.xlim([0.0, 1.0])\n",
    "plt.title('2-class Precision-Recall curve')"
   ]
  },
  {
   "cell_type": "code",
   "execution_count": null,
   "metadata": {},
   "outputs": [],
   "source": []
  }
 ],
 "metadata": {
  "kernelspec": {
   "display_name": "Python 3",
   "language": "python",
   "name": "python3"
  },
  "language_info": {
   "codemirror_mode": {
    "name": "ipython",
    "version": 3
   },
   "file_extension": ".py",
   "mimetype": "text/x-python",
   "name": "python",
   "nbconvert_exporter": "python",
   "pygments_lexer": "ipython3",
   "version": "3.7.0"
  }
 },
 "nbformat": 4,
 "nbformat_minor": 2
}
